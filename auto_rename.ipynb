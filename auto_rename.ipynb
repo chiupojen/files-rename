{
 "cells": [
  {
   "cell_type": "code",
   "execution_count": 19,
   "metadata": {},
   "outputs": [],
   "source": [
    "# 批次重新命名檔案名稱\n",
    "# 匯入模組\n",
    "import os\n",
    "import pandas as pd"
   ]
  },
  {
   "cell_type": "code",
   "execution_count": 20,
   "metadata": {},
   "outputs": [
    {
     "name": "stdout",
     "output_type": "stream",
     "text": [
      "請輸入欲使用的更名csv檔：rename_data.csv\n",
      "               0\n",
      "0  G01-47001.jpg\n",
      "1  G01-48001.jpg\n",
      "2  G01-49123.jpg\n",
      "3  G02-47002.jpg\n",
      "4  G02-49321.jpg\n",
      "['G01-47001.jpg', 'G01-48001.jpg', 'G01-49123.jpg', 'G02-47002.jpg', 'G02-49321.jpg']\n"
     ]
    }
   ],
   "source": [
    "# 讀入欲使用的更名csv檔\n",
    "rename_file = input(\"請輸入欲使用的更名csv檔：\")\n",
    "rename_data = pd.read_csv(rename_file, header=None)\n",
    "rename_list = rename_data[0].values.tolist()\n",
    "# How to Convert Pandas DataFrame into a List\n",
    "# https://datatofish.com/convert-pandas-dataframe-to-list/\n",
    "print(rename_data)\n",
    "print(rename_list)"
   ]
  },
  {
   "cell_type": "code",
   "execution_count": 21,
   "metadata": {},
   "outputs": [
    {
     "name": "stdout",
     "output_type": "stream",
     "text": [
      "['.ipynb_checkpoints', 'abcd_頁面_1.jpg', 'abcd_頁面_2.jpg', 'abcd_頁面_3.jpg', 'abcd_頁面_4.jpg', 'abcd_頁面_5.jpg', 'auto_rename.ipynb', 'rename_data.csv', '備份']\n",
      "請輸入要篩選出更名檔案的關鍵字：abcd\n",
      "['abcd_頁面_1.jpg', 'abcd_頁面_2.jpg', 'abcd_頁面_3.jpg', 'abcd_頁面_4.jpg', 'abcd_頁面_5.jpg']\n"
     ]
    }
   ],
   "source": [
    "# 篩選出欲更名的檔案\n",
    "print(os.listdir())\n",
    "filter_word=input(\"請輸入要篩選出更名檔案的關鍵字：\")\n",
    "data = [name for name in os.listdir() if filter_word in name]\n",
    "print(data)"
   ]
  },
  {
   "cell_type": "code",
   "execution_count": 22,
   "metadata": {},
   "outputs": [
    {
     "name": "stdout",
     "output_type": "stream",
     "text": [
      "請輸入轉換記錄存檔檔名(要加.txt)：0221.txt\n",
      "大功告成\n"
     ]
    }
   ],
   "source": [
    "# 批量、有順序的更改檔名-python\n",
    "# https://www.itread01.com/content/1545053774.html\n",
    "# 留下轉換紀錄\n",
    "# https://medium.com/ccclub/ccclub-python-for-beginners-tutorial-bf0648108581\n",
    "record = input(\"請輸入轉換記錄存檔檔名(要加.txt)：\")\n",
    "rd = open(record, mode='w')\n",
    "n=0\n",
    "for i in data:\n",
    "    os.rename(data[n],rename_list[n])\n",
    "    print(data[n]+\">>>\"+rename_list[n],file = rd)\n",
    "    n = n+1    \n",
    "rd.close()\n",
    "print(\"大功告成\")"
   ]
  },
  {
   "cell_type": "code",
   "execution_count": null,
   "metadata": {},
   "outputs": [],
   "source": []
  }
 ],
 "metadata": {
  "kernelspec": {
   "display_name": "Python 3",
   "language": "python",
   "name": "python3"
  },
  "language_info": {
   "codemirror_mode": {
    "name": "ipython",
    "version": 3
   },
   "file_extension": ".py",
   "mimetype": "text/x-python",
   "name": "python",
   "nbconvert_exporter": "python",
   "pygments_lexer": "ipython3",
   "version": "3.8.3"
  }
 },
 "nbformat": 4,
 "nbformat_minor": 4
}
